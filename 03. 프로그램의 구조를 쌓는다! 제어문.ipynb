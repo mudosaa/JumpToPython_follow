{
 "cells": [
  {
   "cell_type": "markdown",
   "metadata": {},
   "source": [
    "## if문"
   ]
  },
  {
   "cell_type": "code",
   "execution_count": 3,
   "metadata": {},
   "outputs": [
    {
     "name": "stdout",
     "output_type": "stream",
     "text": [
      "택시를 타고 가라\n"
     ]
    }
   ],
   "source": [
    "pocket = ['paper', 'cellphone', 'money']\n",
    "if 'money' in pocket:\n",
    "    print(\"택시를 타고 가라\")\n",
    "else:\n",
    "    print(\"걸어가라\")"
   ]
  },
  {
   "cell_type": "code",
   "execution_count": 5,
   "metadata": {},
   "outputs": [],
   "source": [
    "pocket = ['paper', 'cellphone', 'money']\n",
    "if 'money' in pocket:\n",
    "    pass\n",
    "else:\n",
    "    print(\"걸어가라\")\n",
    "# pass"
   ]
  },
  {
   "cell_type": "code",
   "execution_count": 6,
   "metadata": {},
   "outputs": [
    {
     "name": "stdout",
     "output_type": "stream",
     "text": [
      "택시를 타고가라\n"
     ]
    }
   ],
   "source": [
    "pocket = ['paper', 'cellphone']\n",
    "card = True\n",
    "if 'money' in pocket:\n",
    "    print(\"택시를 타고가라\")\n",
    "elif card:\n",
    "    print(\"택시를 타고가라\")\n",
    "else:\n",
    "    print(\"걸어가라\")"
   ]
  },
  {
   "cell_type": "code",
   "execution_count": 12,
   "metadata": {},
   "outputs": [
    {
     "name": "stdout",
     "output_type": "stream",
     "text": [
      "카드를 꺼내라\n"
     ]
    }
   ],
   "source": [
    "pocket = ['paper', 'cellphone']\n",
    "if 'money' in pocket:\n",
    "    pass \n",
    "else:\n",
    "    print(\"카드를 꺼내라\")"
   ]
  },
  {
   "cell_type": "markdown",
   "metadata": {},
   "source": [
    "## while문"
   ]
  },
  {
   "cell_type": "code",
   "execution_count": 13,
   "metadata": {},
   "outputs": [
    {
     "name": "stdout",
     "output_type": "stream",
     "text": [
      "나무를 1번 찍었습니다.\n",
      "나무를 2번 찍었습니다.\n",
      "나무를 3번 찍었습니다.\n",
      "나무를 4번 찍었습니다.\n",
      "나무를 5번 찍었습니다.\n",
      "나무를 6번 찍었습니다.\n",
      "나무를 7번 찍었습니다.\n",
      "나무를 8번 찍었습니다.\n",
      "나무를 9번 찍었습니다.\n",
      "나무를 10번 찍었습니다.\n",
      "나무 넘어갑니다.\n"
     ]
    }
   ],
   "source": [
    "treeHit = 0\n",
    "while treeHit < 10:\n",
    "    treeHit = treeHit +1\n",
    "    print(\"나무를 %d번 찍었습니다.\" % treeHit)\n",
    "if treeHit == 10:\n",
    "    print(\"나무 넘어갑니다.\")"
   ]
  },
  {
   "cell_type": "code",
   "execution_count": 23,
   "metadata": {},
   "outputs": [
    {
     "name": "stdout",
     "output_type": "stream",
     "text": [
      "\n",
      "1. Add\n",
      "2. Del\n",
      "3. List\n",
      "4. Quit\n",
      "Enter number: \n",
      "1\n",
      "\n",
      "1. Add\n",
      "2. Del\n",
      "3. List\n",
      "4. Quit\n",
      "Enter number: \n",
      "4\n"
     ]
    }
   ],
   "source": [
    "prompt = \"\"\"\n",
    "1. Add\n",
    "2. Del\n",
    "3. List\n",
    "4. Quit\n",
    "Enter number: \"\"\"\n",
    "\n",
    "\n",
    "number = 0\n",
    "while number != 4:\n",
    "    print(prompt)\n",
    "    number = int(input())"
   ]
  },
  {
   "cell_type": "code",
   "execution_count": 24,
   "metadata": {
    "collapsed": true
   },
   "outputs": [
    {
     "name": "stdout",
     "output_type": "stream",
     "text": [
      "돈을 받았으니 커피를 줍니다.\n",
      "남은 커피의 양은 9개입니다.\n",
      "돈을 받았으니 커피를 줍니다.\n",
      "남은 커피의 양은 8개입니다.\n",
      "돈을 받았으니 커피를 줍니다.\n",
      "남은 커피의 양은 7개입니다.\n",
      "돈을 받았으니 커피를 줍니다.\n",
      "남은 커피의 양은 6개입니다.\n",
      "돈을 받았으니 커피를 줍니다.\n",
      "남은 커피의 양은 5개입니다.\n",
      "돈을 받았으니 커피를 줍니다.\n",
      "남은 커피의 양은 4개입니다.\n",
      "돈을 받았으니 커피를 줍니다.\n",
      "남은 커피의 양은 3개입니다.\n",
      "돈을 받았으니 커피를 줍니다.\n",
      "남은 커피의 양은 2개입니다.\n",
      "돈을 받았으니 커피를 줍니다.\n",
      "남은 커피의 양은 1개입니다.\n",
      "돈을 받았으니 커피를 줍니다.\n",
      "남은 커피의 양은 0개입니다.\n",
      "커피가 다 떨어졌습니다. 판매를 중지합니다.\n"
     ]
    }
   ],
   "source": [
    "coffee = 10\n",
    "money = 300\n",
    "while money:\n",
    "    print(\"돈을 받았으니 커피를 줍니다.\")\n",
    "    coffee = coffee -1\n",
    "    print(\"남은 커피의 양은 %d개입니다.\" % coffee)\n",
    "    if coffee == 0:\n",
    "        print(\"커피가 다 떨어졌습니다. 판매를 중지합니다.\")\n",
    "        break"
   ]
  },
  {
   "cell_type": "code",
   "execution_count": 26,
   "metadata": {
    "collapsed": true
   },
   "outputs": [
    {
     "name": "stdout",
     "output_type": "stream",
     "text": [
      "돈을 넣어 주세요: 5000\n",
      "거스름돈 4700를 주고 커피를 줍니다.\n"
     ]
    },
    {
     "ename": "KeyboardInterrupt",
     "evalue": "Interrupted by user",
     "output_type": "error",
     "traceback": [
      "\u001b[1;31m---------------------------------------------------------------------------\u001b[0m",
      "\u001b[1;31mKeyboardInterrupt\u001b[0m                         Traceback (most recent call last)",
      "\u001b[1;32m<ipython-input-26-6b30a4734cb0>\u001b[0m in \u001b[0;36m<module>\u001b[1;34m\u001b[0m\n\u001b[0;32m      1\u001b[0m \u001b[0mcoffee\u001b[0m \u001b[1;33m=\u001b[0m \u001b[1;36m10\u001b[0m\u001b[1;33m\u001b[0m\u001b[1;33m\u001b[0m\u001b[0m\n\u001b[0;32m      2\u001b[0m \u001b[1;32mwhile\u001b[0m \u001b[1;32mTrue\u001b[0m\u001b[1;33m:\u001b[0m\u001b[1;33m\u001b[0m\u001b[1;33m\u001b[0m\u001b[0m\n\u001b[1;32m----> 3\u001b[1;33m     \u001b[0mmoney\u001b[0m \u001b[1;33m=\u001b[0m \u001b[0mint\u001b[0m\u001b[1;33m(\u001b[0m\u001b[0minput\u001b[0m\u001b[1;33m(\u001b[0m\u001b[1;34m\"돈을 넣어 주세요: \"\u001b[0m\u001b[1;33m)\u001b[0m\u001b[1;33m)\u001b[0m\u001b[1;33m\u001b[0m\u001b[1;33m\u001b[0m\u001b[0m\n\u001b[0m\u001b[0;32m      4\u001b[0m     \u001b[1;32mif\u001b[0m \u001b[0mmoney\u001b[0m \u001b[1;33m==\u001b[0m \u001b[1;36m300\u001b[0m\u001b[1;33m:\u001b[0m\u001b[1;33m\u001b[0m\u001b[1;33m\u001b[0m\u001b[0m\n\u001b[0;32m      5\u001b[0m         \u001b[0mprint\u001b[0m\u001b[1;33m(\u001b[0m\u001b[1;34m\"커피를 줍니다.\"\u001b[0m\u001b[1;33m)\u001b[0m\u001b[1;33m\u001b[0m\u001b[1;33m\u001b[0m\u001b[0m\n",
      "\u001b[1;32m~\\anaconda3\\lib\\site-packages\\ipykernel\\kernelbase.py\u001b[0m in \u001b[0;36mraw_input\u001b[1;34m(self, prompt)\u001b[0m\n\u001b[0;32m    858\u001b[0m                 \u001b[1;34m\"raw_input was called, but this frontend does not support input requests.\"\u001b[0m\u001b[1;33m\u001b[0m\u001b[1;33m\u001b[0m\u001b[0m\n\u001b[0;32m    859\u001b[0m             )\n\u001b[1;32m--> 860\u001b[1;33m         return self._input_request(str(prompt),\n\u001b[0m\u001b[0;32m    861\u001b[0m             \u001b[0mself\u001b[0m\u001b[1;33m.\u001b[0m\u001b[0m_parent_ident\u001b[0m\u001b[1;33m,\u001b[0m\u001b[1;33m\u001b[0m\u001b[1;33m\u001b[0m\u001b[0m\n\u001b[0;32m    862\u001b[0m             \u001b[0mself\u001b[0m\u001b[1;33m.\u001b[0m\u001b[0m_parent_header\u001b[0m\u001b[1;33m,\u001b[0m\u001b[1;33m\u001b[0m\u001b[1;33m\u001b[0m\u001b[0m\n",
      "\u001b[1;32m~\\anaconda3\\lib\\site-packages\\ipykernel\\kernelbase.py\u001b[0m in \u001b[0;36m_input_request\u001b[1;34m(self, prompt, ident, parent, password)\u001b[0m\n\u001b[0;32m    902\u001b[0m             \u001b[1;32mexcept\u001b[0m \u001b[0mKeyboardInterrupt\u001b[0m\u001b[1;33m:\u001b[0m\u001b[1;33m\u001b[0m\u001b[1;33m\u001b[0m\u001b[0m\n\u001b[0;32m    903\u001b[0m                 \u001b[1;31m# re-raise KeyboardInterrupt, to truncate traceback\u001b[0m\u001b[1;33m\u001b[0m\u001b[1;33m\u001b[0m\u001b[1;33m\u001b[0m\u001b[0m\n\u001b[1;32m--> 904\u001b[1;33m                 \u001b[1;32mraise\u001b[0m \u001b[0mKeyboardInterrupt\u001b[0m\u001b[1;33m(\u001b[0m\u001b[1;34m\"Interrupted by user\"\u001b[0m\u001b[1;33m)\u001b[0m \u001b[1;32mfrom\u001b[0m \u001b[1;32mNone\u001b[0m\u001b[1;33m\u001b[0m\u001b[1;33m\u001b[0m\u001b[0m\n\u001b[0m\u001b[0;32m    905\u001b[0m             \u001b[1;32mexcept\u001b[0m \u001b[0mException\u001b[0m \u001b[1;32mas\u001b[0m \u001b[0me\u001b[0m\u001b[1;33m:\u001b[0m\u001b[1;33m\u001b[0m\u001b[1;33m\u001b[0m\u001b[0m\n\u001b[0;32m    906\u001b[0m                 \u001b[0mself\u001b[0m\u001b[1;33m.\u001b[0m\u001b[0mlog\u001b[0m\u001b[1;33m.\u001b[0m\u001b[0mwarning\u001b[0m\u001b[1;33m(\u001b[0m\u001b[1;34m\"Invalid Message:\"\u001b[0m\u001b[1;33m,\u001b[0m \u001b[0mexc_info\u001b[0m\u001b[1;33m=\u001b[0m\u001b[1;32mTrue\u001b[0m\u001b[1;33m)\u001b[0m\u001b[1;33m\u001b[0m\u001b[1;33m\u001b[0m\u001b[0m\n",
      "\u001b[1;31mKeyboardInterrupt\u001b[0m: Interrupted by user"
     ]
    }
   ],
   "source": [
    "coffee = 10\n",
    "while True:\n",
    "    money = int(input(\"돈을 넣어 주세요: \"))\n",
    "    if money == 300:\n",
    "        print(\"커피를 줍니다.\")\n",
    "        coffee = coffee -1\n",
    "    elif money > 300:\n",
    "        print(\"거스름돈 %d를 주고 커피를 줍니다.\" % (money -300))\n",
    "        coffee = coffee -1\n",
    "    else:\n",
    "        print(\"돈을 다시 돌려주고 커피를 주지 않습니다.\")\n",
    "        print(\"남은 커피의 양은 %d개 입니다.\" % coffee)\n",
    "    if coffee == 0:\n",
    "        print(\"커피가 다 떨어졌습니다. 판매를 중지 합니다.\")\n",
    "        break"
   ]
  },
  {
   "cell_type": "markdown",
   "metadata": {},
   "source": [
    "## for문"
   ]
  },
  {
   "cell_type": "code",
   "execution_count": 27,
   "metadata": {},
   "outputs": [
    {
     "name": "stdout",
     "output_type": "stream",
     "text": [
      "3\n",
      "7\n",
      "11\n"
     ]
    }
   ],
   "source": [
    "a = [(1,2), (3,4), (5,6)]\n",
    "for (first, last) in a:\n",
    "    print(first + last)"
   ]
  },
  {
   "cell_type": "code",
   "execution_count": 28,
   "metadata": {},
   "outputs": [
    {
     "name": "stdout",
     "output_type": "stream",
     "text": [
      "1번 학생은 합격입니다.\n",
      "2번 학생은 불합격입니다.\n",
      "3번 학생은 합격입니다.\n",
      "4번 학생은 불합격입니다.\n",
      "5번 학생은 합격입니다.\n"
     ]
    }
   ],
   "source": [
    "marks = [90, 25, 67, 45, 80]\n",
    "\n",
    "number = 0 \n",
    "for mark in marks: \n",
    "    number = number +1 \n",
    "    if mark >= 60: \n",
    "        print(\"%d번 학생은 합격입니다.\" % number)\n",
    "    else: \n",
    "        print(\"%d번 학생은 불합격입니다.\" % number)"
   ]
  },
  {
   "cell_type": "code",
   "execution_count": 31,
   "metadata": {},
   "outputs": [
    {
     "name": "stdout",
     "output_type": "stream",
     "text": [
      "55\n"
     ]
    }
   ],
   "source": [
    "# 1부터 10까지 더하는 것\n",
    "add = 0\n",
    "for i in range (1,11):\n",
    "    add = add + i\n",
    "print(add)"
   ]
  },
  {
   "cell_type": "code",
   "execution_count": 42,
   "metadata": {},
   "outputs": [
    {
     "name": "stdout",
     "output_type": "stream",
     "text": [
      "24681012141618\n",
      "369121518212427\n",
      "4812162024283236\n",
      "51015202530354045\n",
      "61218243036424854\n",
      "71421283542495663\n",
      "81624324048566472\n",
      "91827364554637281\n"
     ]
    }
   ],
   "source": [
    "for i in range (2,10):\n",
    "    for j in range (1,10):\n",
    "        print(i*j, end = '')\n",
    "    print('')"
   ]
  },
  {
   "cell_type": "code",
   "execution_count": 43,
   "metadata": {},
   "outputs": [
    {
     "name": "stdout",
     "output_type": "stream",
     "text": [
      "[3, 6, 9, 12]\n"
     ]
    }
   ],
   "source": [
    "a = [1,2,3,4]\n",
    "result = []\n",
    "for num in a:\n",
    "    result.append(num*3)\n",
    "print(result)"
   ]
  },
  {
   "cell_type": "code",
   "execution_count": 44,
   "metadata": {},
   "outputs": [
    {
     "name": "stdout",
     "output_type": "stream",
     "text": [
      "[3, 6, 9, 12]\n"
     ]
    }
   ],
   "source": [
    "a = [1,2,3,4]\n",
    "result = []\n",
    "for num in a:\n",
    "    result.append(num*3)\n",
    "print(result)"
   ]
  },
  {
   "cell_type": "code",
   "execution_count": 47,
   "metadata": {},
   "outputs": [
    {
     "name": "stdout",
     "output_type": "stream",
     "text": [
      "[2, 4, 6, 8, 10, 12, 14, 16, 18, 3, 6, 9, 12, 15, 18, 21, 24, 27, 4, 8, 12, 16, 20, 24, 28, 32, 36, 5, 10, 15, 20, 25, 30, 35, 40, 45, 6, 12, 18, 24, 30, 36, 42, 48, 54, 7, 14, 21, 28, 35, 42, 49, 56, 63, 8, 16, 24, 32, 40, 48, 56, 64, 72, 9, 18, 27, 36, 45, 54, 63, 72, 81]\n"
     ]
    }
   ],
   "source": [
    "result = [x*y for x in range(2,10)\n",
    "              for y in range(1,10)]\n",
    "print(result)"
   ]
  },
  {
   "cell_type": "markdown",
   "metadata": {},
   "source": [
    "# 연습문제"
   ]
  },
  {
   "cell_type": "markdown",
   "metadata": {},
   "source": [
    "Q1\n",
    "다음 코드의 결괏값은 무엇일까?\n",
    "\n",
    "a = \"Life is too short, you need python\"\n",
    "\n",
    "if \"wife\" in a: print(\"wife\")\n",
    "elif \"python\" in a and \"you\" not in a: print(\"python\")\n",
    "elif \"shirt\" not in a: print(\"shirt\")\n",
    "elif \"need\" in a: print(\"need\")\n",
    "else: print(\"none\")"
   ]
  },
  {
   "cell_type": "code",
   "execution_count": null,
   "metadata": {},
   "outputs": [],
   "source": [
    "# shirt"
   ]
  },
  {
   "cell_type": "markdown",
   "metadata": {},
   "source": [
    "Q2\n",
    "while문을 사용해 1부터 1000까지의 자연수 중 3의 배수의 합을 구해 보자."
   ]
  },
  {
   "cell_type": "code",
   "execution_count": 50,
   "metadata": {},
   "outputs": [
    {
     "name": "stdout",
     "output_type": "stream",
     "text": [
      "166833\n"
     ]
    }
   ],
   "source": [
    "result = 0\n",
    "i = 1\n",
    "while i <= 1000:\n",
    "    if i%3 == 0:\n",
    "        result+= i\n",
    "    i+= 1\n",
    "print(result)"
   ]
  },
  {
   "cell_type": "markdown",
   "metadata": {},
   "source": [
    "Q3\n",
    "while문을 사용하여 다음과 같이 별(*)을 표시하는 프로그램을 작성해 보자."
   ]
  },
  {
   "cell_type": "code",
   "execution_count": 57,
   "metadata": {},
   "outputs": [
    {
     "name": "stdout",
     "output_type": "stream",
     "text": [
      "*\n",
      "**\n",
      "***\n",
      "****\n",
      "*****\n"
     ]
    }
   ],
   "source": [
    "i = 0\n",
    "while True:\n",
    "    i+=1\n",
    "    if i>5:\n",
    "        break\n",
    "    print(\"*\"*i)"
   ]
  },
  {
   "cell_type": "markdown",
   "metadata": {},
   "source": [
    "Q4\n",
    "for문을 사용해 1부터 100까지의 숫자를 출력해 보자."
   ]
  },
  {
   "cell_type": "code",
   "execution_count": 59,
   "metadata": {
    "collapsed": true
   },
   "outputs": [
    {
     "name": "stdout",
     "output_type": "stream",
     "text": [
      "1\n",
      "2\n",
      "3\n",
      "4\n",
      "5\n",
      "6\n",
      "7\n",
      "8\n",
      "9\n",
      "10\n",
      "11\n",
      "12\n",
      "13\n",
      "14\n",
      "15\n",
      "16\n",
      "17\n",
      "18\n",
      "19\n",
      "20\n",
      "21\n",
      "22\n",
      "23\n",
      "24\n",
      "25\n",
      "26\n",
      "27\n",
      "28\n",
      "29\n",
      "30\n",
      "31\n",
      "32\n",
      "33\n",
      "34\n",
      "35\n",
      "36\n",
      "37\n",
      "38\n",
      "39\n",
      "40\n",
      "41\n",
      "42\n",
      "43\n",
      "44\n",
      "45\n",
      "46\n",
      "47\n",
      "48\n",
      "49\n",
      "50\n",
      "51\n",
      "52\n",
      "53\n",
      "54\n",
      "55\n",
      "56\n",
      "57\n",
      "58\n",
      "59\n",
      "60\n",
      "61\n",
      "62\n",
      "63\n",
      "64\n",
      "65\n",
      "66\n",
      "67\n",
      "68\n",
      "69\n",
      "70\n",
      "71\n",
      "72\n",
      "73\n",
      "74\n",
      "75\n",
      "76\n",
      "77\n",
      "78\n",
      "79\n",
      "80\n",
      "81\n",
      "82\n",
      "83\n",
      "84\n",
      "85\n",
      "86\n",
      "87\n",
      "88\n",
      "89\n",
      "90\n",
      "91\n",
      "92\n",
      "93\n",
      "94\n",
      "95\n",
      "96\n",
      "97\n",
      "98\n",
      "99\n",
      "100\n"
     ]
    }
   ],
   "source": [
    "for i in range (1,101):\n",
    "    print(i)"
   ]
  },
  {
   "cell_type": "markdown",
   "metadata": {},
   "source": [
    "Q5\n",
    "A 학급에 총 10명의 학생이 있다. 이 학생들의 중간고사 점수는 다음과 같다.\n",
    "\n",
    "[70, 60, 55, 75, 95, 90, 80, 80, 85, 100]\n",
    "\n",
    "for문을 사용하여 A 학급의 평균 점수를 구해 보자."
   ]
  },
  {
   "cell_type": "code",
   "execution_count": 60,
   "metadata": {},
   "outputs": [
    {
     "name": "stdout",
     "output_type": "stream",
     "text": [
      "79.0\n"
     ]
    }
   ],
   "source": [
    "a = [70, 60, 55, 75, 95, 90, 80, 80, 85, 100]\n",
    "total = 0\n",
    "for score in a:\n",
    "    total += score\n",
    "average = total / len(a)\n",
    "print(average)"
   ]
  },
  {
   "cell_type": "markdown",
   "metadata": {},
   "source": [
    "Q6\n",
    "리스트 중에서 홀수에만 2를 곱하여 저장하는 다음 코드가 있다.\n",
    "\n",
    "numbers = [1, 2, 3, 4, 5]\n",
    "result = []\n",
    "for n in numbers:\n",
    "    if n % 2 == 1:\n",
    "        result.append(n*2)\n",
    "        \n",
    "위 코드를 리스트 내포(list comprehension)를 사용하여 표현해 보자."
   ]
  },
  {
   "cell_type": "code",
   "execution_count": 61,
   "metadata": {},
   "outputs": [
    {
     "name": "stdout",
     "output_type": "stream",
     "text": [
      "[2, 6, 10]\n"
     ]
    }
   ],
   "source": [
    "numbers = [1, 2, 3, 4, 5]\n",
    "result = [n*2 for n in numbers if n%2==1]\n",
    "print(result)"
   ]
  }
 ],
 "metadata": {
  "kernelspec": {
   "display_name": "Python 3",
   "language": "python",
   "name": "python3"
  },
  "language_info": {
   "codemirror_mode": {
    "name": "ipython",
    "version": 3
   },
   "file_extension": ".py",
   "mimetype": "text/x-python",
   "name": "python",
   "nbconvert_exporter": "python",
   "pygments_lexer": "ipython3",
   "version": "3.8.5"
  }
 },
 "nbformat": 4,
 "nbformat_minor": 4
}
